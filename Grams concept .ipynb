{
 "cells": [
  {
   "cell_type": "markdown",
   "id": "ed3bc9de",
   "metadata": {},
   "source": [
    "`Grams is used to select the formation of words:`\n",
    "    \n",
    "    - Unigrams \n",
    "    - Bigrams \n",
    "    - Trigrams "
   ]
  },
  {
   "cell_type": "code",
   "execution_count": 1,
   "id": "e3f902c3",
   "metadata": {},
   "outputs": [],
   "source": [
    "import nltk \n",
    "import numpy as np \n"
   ]
  },
  {
   "cell_type": "markdown",
   "id": "853ffd46",
   "metadata": {},
   "source": [
    "#### Unigram \n"
   ]
  },
  {
   "cell_type": "code",
   "execution_count": 2,
   "id": "40d2726a",
   "metadata": {},
   "outputs": [],
   "source": [
    "from nltk.util import ngrams"
   ]
  },
  {
   "cell_type": "code",
   "execution_count": 11,
   "id": "d8df7bb3",
   "metadata": {},
   "outputs": [
    {
     "name": "stdout",
     "output_type": "stream",
     "text": [
      "['I', 'am', 'going', 'to', 'college', 'tomorrow']\n",
      "-----------result---------\n",
      "('I',)\n",
      "('am',)\n",
      "('going',)\n",
      "('to',)\n",
      "('college',)\n",
      "('tomorrow',)\n"
     ]
    }
   ],
   "source": [
    "text = 'I am going to college tomorrow'\n",
    "text = text.split()\n",
    "print(text)\n",
    "sol = ngrams(text , n = 1)\n",
    "print('-----------result---------')\n",
    "for i in sol:\n",
    "    print(i)"
   ]
  },
  {
   "cell_type": "markdown",
   "id": "4109a662",
   "metadata": {},
   "source": [
    "### Bigram "
   ]
  },
  {
   "cell_type": "code",
   "execution_count": 12,
   "id": "899e5476",
   "metadata": {},
   "outputs": [
    {
     "name": "stdout",
     "output_type": "stream",
     "text": [
      "['I', 'am', 'going', 'to', 'college', 'tomorrow']\n",
      "-----------result---------\n",
      "('I', 'am')\n",
      "('am', 'going')\n",
      "('going', 'to')\n",
      "('to', 'college')\n",
      "('college', 'tomorrow')\n"
     ]
    }
   ],
   "source": [
    "text = 'I am going to college tomorrow'\n",
    "text = text.split()\n",
    "print(text)\n",
    "sol = ngrams(text , n = 2)\n",
    "print('-----------result---------')\n",
    "for i in sol:\n",
    "    print(i)"
   ]
  },
  {
   "cell_type": "markdown",
   "id": "031dc278",
   "metadata": {},
   "source": [
    "### trigram"
   ]
  },
  {
   "cell_type": "code",
   "execution_count": 13,
   "id": "1a4799cc",
   "metadata": {},
   "outputs": [
    {
     "name": "stdout",
     "output_type": "stream",
     "text": [
      "['I', 'am', 'going', 'to', 'college', 'tomorrow']\n",
      "-----------result---------\n",
      "('I', 'am', 'going')\n",
      "('am', 'going', 'to')\n",
      "('going', 'to', 'college')\n",
      "('to', 'college', 'tomorrow')\n"
     ]
    }
   ],
   "source": [
    "text = 'I am going to college tomorrow'\n",
    "text = text.split()\n",
    "print(text)\n",
    "sol = ngrams(text , n = 3)\n",
    "print('-----------result---------')\n",
    "for i in sol:\n",
    "    print(i)"
   ]
  },
  {
   "cell_type": "markdown",
   "id": "0cb9d432",
   "metadata": {},
   "source": [
    "### four group "
   ]
  },
  {
   "cell_type": "code",
   "execution_count": 14,
   "id": "76a31cc0",
   "metadata": {},
   "outputs": [
    {
     "name": "stdout",
     "output_type": "stream",
     "text": [
      "['I', 'am', 'going', 'to', 'college', 'tomorrow']\n",
      "-----------result---------\n",
      "('I', 'am', 'going', 'to')\n",
      "('am', 'going', 'to', 'college')\n",
      "('going', 'to', 'college', 'tomorrow')\n"
     ]
    }
   ],
   "source": [
    "text = 'I am going to college tomorrow'\n",
    "text = text.split()\n",
    "print(text)\n",
    "sol = ngrams(text , n = 4)\n",
    "print('-----------result---------')\n",
    "for i in sol:\n",
    "    print(i)"
   ]
  },
  {
   "cell_type": "code",
   "execution_count": null,
   "id": "eb22f911",
   "metadata": {},
   "outputs": [],
   "source": []
  }
 ],
 "metadata": {
  "kernelspec": {
   "display_name": "Python 3 (ipykernel)",
   "language": "python",
   "name": "python3"
  },
  "language_info": {
   "codemirror_mode": {
    "name": "ipython",
    "version": 3
   },
   "file_extension": ".py",
   "mimetype": "text/x-python",
   "name": "python",
   "nbconvert_exporter": "python",
   "pygments_lexer": "ipython3",
   "version": "3.9.13"
  }
 },
 "nbformat": 4,
 "nbformat_minor": 5
}
